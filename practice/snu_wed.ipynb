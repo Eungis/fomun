{
 "cells": [
  {
   "cell_type": "code",
   "execution_count": null,
   "metadata": {},
   "outputs": [],
   "source": [
    "# 방법1\n",
    "# from seleniumwire import webdriver\n",
    "import time\n",
    "from selenium import webdriver\n",
    "from selenium.webdriver.chrome.service import Service\n",
    "from webdriver_manager.chrome import ChromeDriverManager\n",
    "from selenium.webdriver.support.wait import WebDriverWait\n",
    "from selenium.webdriver.support import expected_conditions as EC\n",
    "from selenium.webdriver.common.by import By\n",
    "from selenium.webdriver.common.keys import Keys\n",
    "from selenium.webdriver.support.select import Select"
   ]
  },
  {
   "cell_type": "code",
   "execution_count": null,
   "metadata": {},
   "outputs": [],
   "source": [
    "url = 'https://snufacultyclub.com/page.php?pgid=wedding3'"
   ]
  },
  {
   "cell_type": "code",
   "execution_count": null,
   "metadata": {},
   "outputs": [],
   "source": [
    "wed_date = '2025-03-01'\n",
    "wed_time = '5부'\n",
    "m_name = '김철수' ## 여기에 이름을 입력해주세요\n",
    "m_phone = '01012341234' ## 여기에 전화번호를 입력해주세요\n",
    "w_name = '최영희' ## 여기에 이름을 입력해주세요\n",
    "w_phone = '01032142312' ## 여기에 전화번호를 입력해주세요\n",
    "m_email = 'dfdfd@gmail.com' ## 여기에 이메일을 입력해주세요\n",
    "w_email = 'dfdfdf@naver.com' ## 여기에 이메일을 입력해주세요\n",
    "extra_info = '야외진행' "
   ]
  },
  {
   "cell_type": "code",
   "execution_count": null,
   "metadata": {},
   "outputs": [],
   "source": [
    "options = webdriver.ChromeOptions()\n",
    "options.add_experimental_option('excludeSwitches', ['enable-logging'])\n",
    "options.add_experimental_option(\"excludeSwitches\", [\"enable-automation\"])\n",
    "options.add_experimental_option(\"useAutomationExtension\", False)\n",
    "\n",
    "service = Service()\n",
    "\n",
    "driver = webdriver.Chrome(service=service, options=options)\n",
    "driver.get(url)"
   ]
  },
  {
   "cell_type": "code",
   "execution_count": null,
   "metadata": {},
   "outputs": [],
   "source": [
    "# 개인정보 동의\n",
    "driver.find_element(By.NAME, \"chk1\").click()\n",
    "driver.find_element(By.NAME ,\"chk2\").click()\n",
    "# 페이지 이동\n",
    "driver.find_element(By.CSS_SELECTOR, 'button.fill').click()"
   ]
  },
  {
   "cell_type": "code",
   "execution_count": null,
   "metadata": {},
   "outputs": [],
   "source": [
    "# 개인정보 입력\n",
    "driver.find_element(By.CSS_SELECTOR, \"input#name.frm_ipt.frm_50\").send_keys(m_name)\n",
    "driver.find_element(By.CSS_SELECTOR, \"input#phone.frm_ipt.frm_50\").send_keys(m_phone)\n",
    "driver.find_element(By.CSS_SELECTOR ,\"input.sexChk\").click()\n",
    "driver.find_element(By.CSS_SELECTOR, \"input#name_spouse.frm_ipt.frm_50\").send_keys(w_name)\n",
    "driver.find_element(By.CSS_SELECTOR, \"input#phone_spouse.frm_ipt.frm_50\").send_keys(w_phone)\n",
    "driver.find_element(By.CSS_SELECTOR, \"input#email.frm_ipt.frm_100\").send_keys(m_email)\n",
    "driver.find_element(By.CSS_SELECTOR, \"input#email_spouse.frm_ipt.frm_100\").send_keys(w_email)\n",
    "driver.find_element(By.CSS_SELECTOR, \"textarea#od_memo.txt_ipt\").send_keys(extra_info)\n",
    "\n"
   ]
  },
  {
   "cell_type": "code",
   "execution_count": null,
   "metadata": {},
   "outputs": [],
   "source": [
    "# 날짜 선택 input 클릭\n",
    "driver.find_element(By.CSS_SELECTOR, \"input#day.frm_ipt.frm_100.snu_chk.hasDatepicker\").click()\n",
    "\n",
    "# 연도 선택\n",
    "year_picker = driver.find_element(By.CSS_SELECTOR, \"select.ui-datepicker-year\")\n",
    "selected_from_year = Select(year_picker)\n",
    "selected_from_year.select_by_value(\"2025\")\n",
    "\n",
    "# 월 선택\n",
    "month_picker = driver.find_element(By.CSS_SELECTOR, \"select.ui-datepicker-month\")\n",
    "selected_from_month = Select(month_picker)\n",
    "selected_from_month.select_by_value(\"2\")  # 4월을 나타냄 (0부터 시작이므로)\n",
    "\n",
    "# 날짜 선택\n",
    "day = driver.find_element(By.XPATH, \"//td/a[text()='1']\")  # 11일 선택\n",
    "day.click()\n",
    "\n",
    "# 시간 선택\n",
    "time_picker = driver.find_element(By.CSS_SELECTOR, \"select#rtime.frm_select.snu_chk\")\n",
    "selected_from_time = Select(time_picker)\n",
    "selected_from_time.select_by_value(\"5\")"
   ]
  },
  {
   "cell_type": "code",
   "execution_count": null,
   "metadata": {},
   "outputs": [],
   "source": [
    "driver.find_element(By.CSS_SELECTOR, \"button.btn_submit\").click()"
   ]
  }
 ],
 "metadata": {
  "kernelspec": {
   "display_name": "Python 3",
   "language": "python",
   "name": "python3"
  },
  "language_info": {
   "codemirror_mode": {
    "name": "ipython",
    "version": 3
   },
   "file_extension": ".py",
   "mimetype": "text/x-python",
   "name": "python",
   "nbconvert_exporter": "python",
   "pygments_lexer": "ipython3",
   "version": "3.9.16"
  },
  "orig_nbformat": 4
 },
 "nbformat": 4,
 "nbformat_minor": 2
}
